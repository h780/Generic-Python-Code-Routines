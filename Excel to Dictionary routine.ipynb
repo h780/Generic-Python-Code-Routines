{
 "cells": [
  {
   "cell_type": "markdown",
   "id": "a31b34e0",
   "metadata": {},
   "source": [
    "# Excel to Dictionary Routine"
   ]
  },
  {
   "cell_type": "markdown",
   "id": "a3fa69d6",
   "metadata": {},
   "source": [
    "Let's assume we have two files in a directory called excel_test:"
   ]
  },
  {
   "cell_type": "markdown",
   "id": "f9511e54",
   "metadata": {},
   "source": [
    "1.&nbsp;xlsx <br> \n",
    "Sheet1&emsp;&ensp;Sheet2 <br>\n",
    "col1 col2&ensp;&nbsp;col1 col2 <br>\n",
    "1&emsp;&ensp;2&nbsp;&ensp;&emsp;&ensp;3&emsp;&ensp;4 <br>\n",
    "\n",
    "2.&nbsp;xlsx <br> \n",
    "Sheet1&emsp;&ensp;Sheet2 <br>\n",
    "col1 col2&ensp;&nbsp;col1 col2 <br>\n",
    "5&emsp;&ensp;6&nbsp;&ensp;&emsp;&ensp;7&emsp;&ensp;8 <br>"
   ]
  },
  {
   "cell_type": "markdown",
   "id": "5dee5369",
   "metadata": {},
   "source": [
    "We can store your extracted data in multiple ways, let's see some methods."
   ]
  },
  {
   "cell_type": "markdown",
   "id": "84aafe3b",
   "metadata": {},
   "source": [
    "### 1) A single dictionary"
   ]
  },
  {
   "cell_type": "markdown",
   "id": "5fa9d2db",
   "metadata": {},
   "source": [
    "A dictionary where all the keys are strings composed by the \"name of the file, underscore, sheet name\" and the values are pd.DataFrames"
   ]
  },
  {
   "cell_type": "code",
   "execution_count": 1,
   "id": "a66faa6e",
   "metadata": {},
   "outputs": [],
   "source": [
    "# import pandas as pd\n",
    "# import os\n",
    "\n",
    "# files_dir = \"specified_path\"\n",
    "# files = os.listdir(files_dir) \n",
    "\n",
    "# # here will be stored all the content from your files and sheets\n",
    "# sheets_content = {}\n",
    "\n",
    "# # reading all files inside the folder\n",
    "# for file in files:\n",
    "  \n",
    "#   # reading the content of a xlsx file\n",
    "#   data = pd.ExcelFile(files_dir+file)\n",
    "  \n",
    "#   # iterating through all sheets\n",
    "#   for sheet in data.sheet_names:\n",
    "#     # saving the content of the sheet for that file (-5 deletes the .xlsx part from the name of the file and makes everything more readable)\n",
    "#     sheets_content[file[:-5]+\"_\"+sheet] = data.parse(sheet)\n",
    "\n",
    "# print(sheets_content)"
   ]
  },
  {
   "cell_type": "markdown",
   "id": "69f21759",
   "metadata": {},
   "source": [
    "Output:\n",
    "<br>\n",
    "{'1_Sheet1':     \n",
    "  &emsp;&emsp;&ensp;col1&emsp;col2 <br>\n",
    "  &emsp;0&emsp;1&emsp;&emsp;2, <br> \n",
    "'1_Sheet2':    <br>\n",
    "  &emsp;&emsp;&ensp;col1&emsp;col2 <br>\n",
    "  &emsp;0&emsp;3&emsp;&emsp;4, <br>\n",
    "'2_Sheet1':    <br>\n",
    "  &emsp;&emsp;&ensp;col1&emsp;col2 <br>\n",
    "  &emsp;0&emsp;5&emsp;&emsp;6, <br>\n",
    "'2_Sheet2':    <br>\n",
    "  &emsp;&emsp;&ensp;col1&emsp;col2 <br>\n",
    "  &emsp;0&emsp;7&emsp;&emsp;8\n",
    "} <br>"
   ]
  },
  {
   "cell_type": "markdown",
   "id": "34500aab",
   "metadata": {},
   "source": [
    "### 2) A dictionary of dictionaries"
   ]
  },
  {
   "cell_type": "markdown",
   "id": "5614be35",
   "metadata": {},
   "source": [
    "We store all xlsx files in a dictionary with as keys the file names and as value another dictionary. The inner dictionary has keys as sheets names and values are pd.DataFrames:"
   ]
  },
  {
   "cell_type": "code",
   "execution_count": 2,
   "id": "2c9d1be6",
   "metadata": {},
   "outputs": [],
   "source": [
    "# import pandas as pd\n",
    "# import os\n",
    "\n",
    "# files_dir = \"excel_test/\"\n",
    "# files = os.listdir(files_dir) \n",
    "\n",
    "# sheets_content = {}\n",
    "\n",
    "# for file in files:\n",
    "\n",
    "#   data = pd.ExcelFile(files_dir+file)\n",
    "  \n",
    "#   file_data = {}\n",
    "#   for sheet in data.sheet_names:\n",
    "#     file_data[sheet] = data.parse(sheet)\n",
    "\n",
    "#   sheets_content[file[:-5]] = file_data"
   ]
  },
  {
   "cell_type": "markdown",
   "id": "f261c3c6",
   "metadata": {},
   "source": [
    "Output:\n",
    "\n",
    "{'1': <br>\n",
    " &emsp;{'Sheet1':   \n",
    " &emsp;&emsp;&emsp;col1  col2 <br>\n",
    " &emsp;&ensp;0&emsp;1&emsp;&emsp;2, <br>\n",
    " &emsp;&nbsp;'Sheet2':  \n",
    " &emsp;&emsp;&emsp;col1  col2 <br>\n",
    " &emsp;&ensp;0&emsp;3&emsp;&emsp;4},<br>\n",
    " '2': <br>\n",
    " &emsp;{'Sheet1':   \n",
    " &emsp;&emsp;&emsp;col1  col2 <br>\n",
    " &emsp;&ensp;0&emsp;5&emsp;&emsp;6,<br> \n",
    " &emsp;&nbsp;'Sheet2':   \n",
    " &emsp;&emsp;&emsp;col1  col2 <br>\n",
    " &emsp;&ensp;0&emsp;7&emsp;&emsp;8}<br>\n",
    "}"
   ]
  },
  {
   "cell_type": "markdown",
   "id": "9094ff86",
   "metadata": {},
   "source": [
    "### 3) A list of dictionaries "
   ]
  },
  {
   "cell_type": "markdown",
   "id": "6d8f271f",
   "metadata": {},
   "source": [
    "We store all xlsx files in an array where each element is a dictionary with as keys the sheets names and values pd.DataFrames:"
   ]
  },
  {
   "cell_type": "code",
   "execution_count": 3,
   "id": "73b2f93f",
   "metadata": {},
   "outputs": [],
   "source": [
    "# import pandas as pd\n",
    "# import os\n",
    "\n",
    "# files_dir = \"excel_test/\"\n",
    "# files = os.listdir(files_dir) \n",
    "\n",
    "# sheets_content = []\n",
    "\n",
    "# for file in files:\n",
    "\n",
    "#   data = pd.ExcelFile(files_dir+file)\n",
    "  \n",
    "#   file_data = {}\n",
    "#   for sheet in data.sheet_names:\n",
    "#     file_data[sheet] = data.parse(sheet)\n",
    "#   sheets_content.append(file_data)"
   ]
  },
  {
   "cell_type": "markdown",
   "id": "029e3c80",
   "metadata": {},
   "source": [
    "Output: <br>\n",
    "\n",
    "[ <br>\n",
    " &emsp;{'Sheet1':   \n",
    " &emsp;&emsp;&emsp;col1&emsp;col2  <br>\n",
    " &emsp;&ensp;0&emsp;1&emsp;&emsp;&nbsp;2, <br>\n",
    " &emsp;&nbsp;'Sheet2':    \n",
    " &emsp;&emsp;&emsp;col1&emsp;col2  <br>\n",
    " &emsp;&ensp;0&emsp;3&emsp;&emsp;&nbsp;4},<br> \n",
    " &emsp;{'Sheet1':   \n",
    " &emsp;&emsp;&emsp;col1&emsp;col2  <br>\n",
    " &emsp;&ensp;0&emsp;5&emsp;&emsp;&nbsp;6, <br>\n",
    " &emsp;&nbsp;'Sheet2':   \n",
    " &emsp;&emsp;&emsp;col1&emsp;col2  <br>\n",
    " &emsp;&ensp;0&emsp;7&emsp;&emsp;&nbsp;8} <br>\n",
    "]\n",
    "\n"
   ]
  }
 ],
 "metadata": {
  "kernelspec": {
   "display_name": "Python 3",
   "language": "python",
   "name": "python3"
  },
  "language_info": {
   "codemirror_mode": {
    "name": "ipython",
    "version": 3
   },
   "file_extension": ".py",
   "mimetype": "text/x-python",
   "name": "python",
   "nbconvert_exporter": "python",
   "pygments_lexer": "ipython3",
   "version": "3.8.8"
  }
 },
 "nbformat": 4,
 "nbformat_minor": 5
}
